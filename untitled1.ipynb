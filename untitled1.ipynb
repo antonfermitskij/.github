{
  "nbformat": 4,
  "nbformat_minor": 0,
  "metadata": {
    "colab": {
      "provenance": [],
      "authorship_tag": "ABX9TyN1Qp1Q6graiezPBmXhabNx",
      "include_colab_link": true
    },
    "kernelspec": {
      "name": "python3",
      "display_name": "Python 3"
    },
    "language_info": {
      "name": "python"
    }
  },
  "cells": [
    {
      "cell_type": "markdown",
      "metadata": {
        "id": "view-in-github",
        "colab_type": "text"
      },
      "source": [
        "<a href=\"https://colab.research.google.com/github/antonfermitskij/.github/blob/main/untitled1.ipynb\" target=\"_parent\"><img src=\"https://colab.research.google.com/assets/colab-badge.svg\" alt=\"Open In Colab\"/></a>"
      ]
    },
    {
      "cell_type": "code",
      "execution_count": null,
      "metadata": {
        "colab": {
          "base_uri": "https://localhost:8080/"
        },
        "id": "XqoeQkzzJ9R-",
        "outputId": "6c318237-8d60-41ed-8c99-5d454dbc5f52"
      },
      "outputs": [
        {
          "output_type": "stream",
          "name": "stdout",
          "text": [
            "Requirement already satisfied: requests in /usr/local/lib/python3.10/dist-packages (2.32.3)\n",
            "Requirement already satisfied: beautifulsoup4 in /usr/local/lib/python3.10/dist-packages (4.12.3)\n",
            "Requirement already satisfied: charset-normalizer<4,>=2 in /usr/local/lib/python3.10/dist-packages (from requests) (3.4.0)\n",
            "Requirement already satisfied: idna<4,>=2.5 in /usr/local/lib/python3.10/dist-packages (from requests) (3.10)\n",
            "Requirement already satisfied: urllib3<3,>=1.21.1 in /usr/local/lib/python3.10/dist-packages (from requests) (2.2.3)\n",
            "Requirement already satisfied: certifi>=2017.4.17 in /usr/local/lib/python3.10/dist-packages (from requests) (2024.8.30)\n",
            "Requirement already satisfied: soupsieve>1.2 in /usr/local/lib/python3.10/dist-packages (from beautifulsoup4) (2.6)\n",
            "No README found for https://github.com/antonfermitskij/KMS-activator-2019\n",
            "\n",
            "No README found for https://github.com/antonfermitskij/KMS-ALL-2024\n",
            "\n",
            "No README found for https://github.com/antonfermitskij/KMS-Auto-2.0\n",
            "\n",
            "No README found for https://github.com/antonfermitskij/KMS-Activator-Download-24-25\n",
            "\n",
            "No README found for https://github.com/antonfermitskij/Kms-Auto-2025-kmspico\n",
            "\n",
            "No README found for https://github.com/antonfermitskij/Kms-Auto-2025-kmspico\n",
            "\n",
            "No README found for https://github.com/antonfermitskij/Kms-activator-2024\n",
            "\n",
            "No README found for https://github.com/antonfermitskij/KMS-Activator-Microsoft-Activation-Scripts-2.0\n",
            "\n"
          ]
        }
      ],
      "source": [
        "# prompt: https://github.com/antonfermitskij/KMS-activator-2019\n",
        "# https://github.com/antonfermitskij/KMS-ALL-2024\n",
        "# https://github.com/antonfermitskij/KMS-Auto-2.0\n",
        "# https://github.com/antonfermitskij/KMS-Activator-Download-24-25\n",
        "# https://github.com/antonfermitskij/Kms-Auto-2025-kmspico\n",
        "# https://github.com/antonfermitskij/Kms-Auto-2025-kmspico\n",
        "# https://github.com/antonfermitskij/Kms-activator-2024\n",
        "# https://github.com/antonfermitskij/KMS-Activator-Microsoft-Activation-Scripts-2.0\n",
        "\n",
        "import requests\n",
        "from bs4 import BeautifulSoup\n",
        "\n",
        "def get_readme_content(repo_url):\n",
        "    \"\"\"\n",
        "    Fetches the README content from a GitHub repository.\n",
        "\n",
        "    Args:\n",
        "        repo_url: The URL of the GitHub repository.\n",
        "\n",
        "    Returns:\n",
        "        The content of the README file as a string, or None if not found.\n",
        "    \"\"\"\n",
        "    try:\n",
        "        response = requests.get(repo_url)\n",
        "        response.raise_for_status()  # Raise an exception for bad status codes\n",
        "\n",
        "        soup = BeautifulSoup(response.content, 'html.parser')\n",
        "        readme_element = soup.find('article', class_='markdown-body entry-content')\n",
        "        if readme_element:\n",
        "          return readme_element.get_text(strip=True)\n",
        "        else:\n",
        "          return None\n",
        "\n",
        "    except requests.exceptions.RequestException as e:\n",
        "        print(f\"Error fetching {repo_url}: {e}\")\n",
        "        return None\n",
        "\n",
        "repo_urls = [\n",
        "    \"https://github.com/antonfermitskij/KMS-activator-2019\",\n",
        "    \"https://github.com/antonfermitskij/KMS-ALL-2024\",\n",
        "    \"https://github.com/antonfermitskij/KMS-Auto-2.0\",\n",
        "    \"https://github.com/antonfermitskij/KMS-Activator-Download-24-25\",\n",
        "    \"https://github.com/antonfermitskij/Kms-Auto-2025-kmspico\",\n",
        "    \"https://github.com/antonfermitskij/Kms-Auto-2025-kmspico\",\n",
        "    \"https://github.com/antonfermitskij/Kms-activator-2024\",\n",
        "    \"https://github.com/antonfermitskij/KMS-Activator-Microsoft-Activation-Scripts-2.0\"\n",
        "]\n",
        "\n",
        "\n",
        "# Install necessary libraries\n",
        "!pip install requests beautifulsoup4\n",
        "\n",
        "for url in repo_urls:\n",
        "  readme_content = get_readme_content(url)\n",
        "  if readme_content:\n",
        "    print(f\"README content for {url}:\\n{readme_content[:200]}...\\n\") #print first 200 characters\n",
        "  else:\n",
        "    print(f\"No README found for {url}\\n\")"
      ]
    },
    {
      "cell_type": "markdown",
      "source": [],
      "metadata": {
        "id": "mDna3FlEJ-y9"
      }
    }
  ]
}